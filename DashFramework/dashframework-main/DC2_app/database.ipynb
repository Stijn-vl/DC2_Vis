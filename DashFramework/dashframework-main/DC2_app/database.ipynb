{
 "cells": [
  {
   "cell_type": "code",
   "execution_count": 2,
   "metadata": {},
   "outputs": [],
   "source": [
    "import numpy as np\n",
    "import pandas as pd\n",
    "import os\n",
    "import tqdm\n",
    "import sqlalchemy as sqlalchemy\n",
    "from sqlalchemy import create_engine\n",
    "import sqlite3\n",
    "import time"
   ]
  },
  {
   "cell_type": "code",
   "execution_count": 3,
   "metadata": {},
   "outputs": [],
   "source": [
    "def Get_File_List(Check_year):\n",
    "    File_List = []\n",
    "    Data_Location = \"C:\\\\Users\\\\20192830\\\\Documents\\\\Data Challenge 2\\\\Data-Challenge-2\\\\Data_Challenge_2_Data\\\\\" #Enter your data location to the files\n",
    "    Main_Folder = os.listdir(Data_Location)\n",
    "    for month_folder in Main_Folder:\n",
    "        year = month_folder.split('-')[0]\n",
    "        month = month_folder.split('-')[1]\n",
    "        Sub_Folder = Data_Location + month_folder\n",
    "        if(int(year) == int(Check_year)): #set ==, > or < to select the years\n",
    "            for district_folder in os.listdir(Sub_Folder):\n",
    "                if district_folder.endswith('-street.csv'):\n",
    "                    filename = Sub_Folder + \"\\\\\" + district_folder\n",
    "                    File_List.append(filename)\n",
    "    return File_List"
   ]
  },
  {
   "cell_type": "code",
   "execution_count": 3,
   "metadata": {},
   "outputs": [
    {
     "name": "stderr",
     "output_type": "stream",
     "text": [
      "  0%|          | 0/10 [00:00<?, ?it/s]C:\\Users\\20192830\\AppData\\Local\\Programs\\Python\\Python38\\lib\\site-packages\\pandas\\core\\generic.py:2653: UserWarning: The spaces in these column names will not be changed. In pandas versions < 0.14, spaces were converted to underscores.\n",
      "  sql.to_sql(\n",
      "100%|██████████| 10/10 [10:24<00:00, 62.40s/it]\n"
     ]
    }
   ],
   "source": [
    "#CREATE DATABASE (RUN GETFILELIST FIRST)\n",
    "col_names = [\"Crime ID\", \"Month\", \"Reported by\", \"Falls within\", \"Longitude\", \"Latitude\", \"Location\", \"LSOA code\",\n",
    "             \"LSOA name\", \"Crime type\", \"Last outcome category\", \"Context\"]\n",
    "Crime_df = pd.DataFrame()\n",
    "Crime_df = Crime_df.reindex(Crime_df.columns.union(col_names), axis=1)\n",
    "\n",
    "Data = ['2012', '2013', '2014', '2015', '2016', '2017', '2018', '2019', '2020', '2021']\n",
    "\n",
    "conn = sqlite3.connect(r'C:\\\\Users\\\\20192830\\\\Documents\\\\Data Challenge 2\\\\DC22_DB.db') #Specify output \n",
    "#takes +- 15 minutes\n",
    "for year in tqdm.tqdm(Data):\n",
    "    File_List = Get_File_List(year)\n",
    "    for File in File_List:\n",
    "        Crime_df = pd.read_csv(File)\n",
    "        Crime_df = Crime_df.dropna(subset=['Longitude', 'Latitude'])\n",
    "        Crime_df[['Year','Month']] = Crime_df['Month'].str.split('-',expand=True)  \n",
    "        Crime_df = Crime_df[[\"Crime ID\", \"Year\", \"Month\", \"Reported by\", \"Falls within\", \"Longitude\", \"Latitude\", \"Location\", \"LSOA code\",\n",
    "                             \"LSOA name\", \"Crime type\", \"Last outcome category\", \"Context\"]]\n",
    "        Crime_df.to_sql('Street', conn, if_exists='append', index=False)\n"
   ]
  },
  {
   "cell_type": "code",
   "execution_count": 5,
   "metadata": {},
   "outputs": [],
   "source": [
    "def get_amount_data():\n",
    "    con = sqlite3.connect('DC2_DB.db')\n",
    "    query = f'''SELECT Year, Month, `Falls within` AS \"Region\", COUNT(*) AS \"Crime_Number\"\n",
    "                FROM Street_fixed\n",
    "                GROUP BY Year, Month, `Falls within`\n",
    "             '''\n",
    "    sql_query = pd.read_sql_query(query, con)\n",
    "    df = pd.DataFrame(sql_query)\n",
    "    \n",
    "    df['Month'] = df.Month.astype(str).str.pad(2,fillchar='0')\n",
    "    df['Year'] = df['Year'].astype(str)\n",
    "\n",
    "    df['Date'] = pd.to_datetime(df['Year'] + df['Month'], format='%Y%m')\n",
    "    del df['Year']\n",
    "    del df ['Month']\n",
    "    return df\n",
    "\n",
    "Average_Crimes = get_amount_data()\n",
    "Average_Crimes_Train = Average_Crimes.loc[Average_Crimes[\"Date\"] < pd.to_datetime(2019, format='%Y')]\n",
    "Average_Crimes_Test = Average_Crimes.loc[(Average_Crimes[\"Date\"] >= pd.to_datetime(2019, format='%Y')) & (Average_Crimes[\"Date\"] < pd.to_datetime(2020, format='%Y'))]\n"
   ]
  },
  {
   "cell_type": "code",
   "execution_count": 8,
   "metadata": {},
   "outputs": [
    {
     "name": "stderr",
     "output_type": "stream",
     "text": [
      "C:\\Users\\20192830\\AppData\\Local\\Programs\\Python\\Python38\\lib\\site-packages\\pandas\\core\\generic.py:2653: UserWarning: The spaces in these column names will not be changed. In pandas versions < 0.14, spaces were converted to underscores.\n",
      "  sql.to_sql(\n"
     ]
    }
   ],
   "source": [
    "\n",
    "#add sub tables\n",
    "con = sqlite3.connect('DC22_DB.db')\n",
    "query = f'''SELECT DISTINCT(`Falls within`)\n",
    "                FROM Street_fixed\n",
    "             '''\n",
    "sql_query = pd.read_sql_query(query, con)\n",
    "df = pd.DataFrame(sql_query)\n",
    "df.to_sql('Region', con, if_exists='replace', index=False)\n",
    "\n",
    "#add sub tables\n",
    "con = sqlite3.connect('DC22_DB.db')\n",
    "query = f'''SELECT DISTINCT(`Crime type`)\n",
    "                FROM Street_fixed\n",
    "             '''\n",
    "sql_query = pd.read_sql_query(query, con)\n",
    "df = pd.DataFrame(sql_query)\n",
    "df.to_sql('Crime_Type', con, if_exists='replace', index=False)\n",
    "\n",
    "#add sub tables\n",
    "con = sqlite3.connect('DC22_DB.db')\n",
    "query = f'''SELECT DISTINCT(Year)\n",
    "                FROM Street_fixed\n",
    "             '''\n",
    "sql_query = pd.read_sql_query(query, con)\n",
    "df = pd.DataFrame(sql_query)\n",
    "df.to_sql('Years', con, if_exists='replace', index=False)\n",
    "\n"
   ]
  }
 ],
 "metadata": {
  "interpreter": {
   "hash": "c0b114578446917ee1c5a030f1b9a66b777a005a9d6891f12330994dd2deb84d"
  },
  "kernelspec": {
   "display_name": "Python 3.8.3 64-bit",
   "language": "python",
   "name": "python3"
  },
  "language_info": {
   "codemirror_mode": {
    "name": "ipython",
    "version": 3
   },
   "file_extension": ".py",
   "mimetype": "text/x-python",
   "name": "python",
   "nbconvert_exporter": "python",
   "pygments_lexer": "ipython3",
   "version": "3.8.3"
  },
  "orig_nbformat": 4
 },
 "nbformat": 4,
 "nbformat_minor": 2
}
